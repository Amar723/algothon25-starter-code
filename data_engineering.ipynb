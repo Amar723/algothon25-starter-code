{
 "cells": [
  {
   "cell_type": "code",
   "execution_count": null,
   "id": "e7b6c664",
   "metadata": {},
   "outputs": [],
   "source": [
    "import numpy as np\n",
    "import csv"
   ]
  },
  {
   "cell_type": "code",
   "execution_count": null,
   "id": "f4ed13db",
   "metadata": {},
   "outputs": [],
   "source": [
    "with open('prices.txt', 'r') as file:\n",
    "    reader = csv.reader(file)\n",
    "    data = [row for row in reader]\n",
    "\n",
    "    \"\"\"\n",
    "    Each row is a different stock\n",
    "    each column is the closing price for a new day.\n",
    "    \"\"\"\n",
    "array = np.array(data)\n",
    "print(array)"
   ]
  },
  {
   "cell_type": "code",
   "execution_count": null,
   "id": "c29d0196",
   "metadata": {},
   "outputs": [],
   "source": [
    "def sma"
   ]
  }
 ],
 "metadata": {
  "kernelspec": {
   "display_name": "YVLAlgothon",
   "language": "python",
   "name": "python3"
  },
  "language_info": {
   "codemirror_mode": {
    "name": "ipython",
    "version": 3
   },
   "file_extension": ".py",
   "mimetype": "text/x-python",
   "name": "python",
   "nbconvert_exporter": "python",
   "pygments_lexer": "ipython3",
   "version": "3.13.5"
  }
 },
 "nbformat": 4,
 "nbformat_minor": 5
}
